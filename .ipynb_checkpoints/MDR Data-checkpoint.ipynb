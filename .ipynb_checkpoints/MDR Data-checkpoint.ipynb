{
 "cells": [
  {
   "cell_type": "code",
   "execution_count": 2,
   "metadata": {},
   "outputs": [],
   "source": [
    "import pandas as pd\n",
    "import numpy as np\n",
    "import os\n",
    "import zipfile\n",
    "import glob\n",
    "import requests\n",
    "import io\n",
    "\n",
    "pd.options.display.max_columns=75"
   ]
  },
  {
   "cell_type": "markdown",
   "metadata": {},
   "source": [
    "# Manufacturer and User Facility Device Experience Database - (MAUDE)\n",
    "\n",
    "\n",
    "__MAUDE SEARCHABLE DATABASE:__\n",
    "https://www.accessdata.fda.gov/scripts/cdrh/cfdocs/cfmaude/search.cfm\n",
    "\n",
    "Manufacturer and User Facility Device Experience (MAUDE)\n",
    "\n",
    "MAUDE data represents reports of adverse events involving medical devices.\n",
    "\n",
    "Each year, the FDA receives several hundred thousand medical device reports (MDRs) of suspected device-associated deaths, serious injuries and malfunctions. The FDA uses MDRs to monitor device performance, detect potential device-related safety issues, and contribute to benefit-risk assessments of these products. The MAUDE database houses MDRs submitted to the FDA by mandatory reporters 1 (manufacturers, importers and device user facilities) and voluntary reporters such as health care professionals, patients and consumers.\n",
    "\n",
    "Although MDRs are a valuable source of information, this passive surveillance system has limitations, including the potential submission of incomplete, inaccurate, untimely, unverified, or biased data. In addition, the incidence or prevalence of an event cannot be determined from this reporting system alone due to potential under-reporting of events and lack of information about frequency of device use. Because of this, MDRs comprise only one of the FDA's several important postmarket surveillance data sources.\n",
    "\n",
    "__Dataset Information:__\n",
    "https://open.fda.gov/data/maude/ \n",
    "\n",
    "__Data Dictionary:__\n",
    "\n",
    "https://www.fda.gov/medical-devices/mandatory-reporting-requirements-manufacturers-importers-and-device-user-facilities/manufacturer-and-user-facility-device-experience-database-maude\n",
    "\n",
    "_Excerpt below:_\n",
    "\n",
    "Master Event Data: A distinct master event data record will be present for each source reporting anevent. In other words, if a User Facility, Distributor, Manufacturer, and voluntary submitter all report an event, there will be four event records. These individual source records are related via the EVENT KEY. EVENT KEY is an internally-generated key which links multiple sources to a single event.\n",
    "\n",
    "Device Data: Record Type 2 contains information related to the device(s) involved in the event.\n",
    "\n",
    "Patient Data: Record Type 3 contains information related to the patient(s) involved in the event.\n",
    "\n",
    "Text Data: Record Type 4 contains textual information from MEDWATCH Form Sections B5, H3, and H10.\n",
    "\n",
    "All record types are linked via the MDR REPORT KEY.\n",
    "\n",
    "For distributor reports which have had subsequent manufacturer reports, a special data element, MANUFACTURER LINK FLAG, will be set to 'Y'. In this case, the DISTRIBUTOR information (Section F on the master event data record) will be present; otherwise, these data elements will be blank."
   ]
  },
  {
   "cell_type": "code",
   "execution_count": 3,
   "metadata": {},
   "outputs": [],
   "source": [
    "# DataFrame to store the MAUDE Data\n",
    "\n",
    "def maude_downloader(urls):\n",
    "    \"\"\"Downloads MAUDE files for data analysis.\n",
    "    \n",
    "    This will download the MAUDE file content, stream the bytes\n",
    "    to uncompress and analyze. Will also append the list of zips\n",
    "    into a single pandas DataFrame for analysis.\n",
    "    \n",
    "    Parameters:\n",
    "        urls: list\n",
    "            This is the list of urls from the MAUDE website that\n",
    "            will be used for analysis.\n",
    "    \n",
    "    Returns:\n",
    "        pandas DataFrame object\n",
    "    \n",
    "    \"\"\"\n",
    "    df = pd.DataFrame()\n",
    "    # Relevant urls to download\n",
    "    for url in urls:\n",
    "        # Making the download request\n",
    "        file = requests.get(url)\n",
    "        # Accessing the file in the zip.\n",
    "        with zipfile.ZipFile(io.BytesIO(file.content)) as zf:\n",
    "            # Reading the filename\n",
    "            for name in zf.namelist():\n",
    "                # Opening the file, decoding and parsing for DataFrame\n",
    "                # Skips over rows with errors.\n",
    "                with zf.open(name) as myfile:\n",
    "                    df = df.append(pd.read_csv(io.StringIO(myfile.read().decode('latin1')), delimiter='|', \n",
    "                                               error_bad_lines=False, warn_bad_lines=False, low_memory=False))\n",
    "    return df"
   ]
  },
  {
   "cell_type": "code",
   "execution_count": 4,
   "metadata": {},
   "outputs": [],
   "source": [
    "patient_urls = ['http://www.accessdata.fda.gov/MAUDE/ftparea/patientthru2019.zip', 'http://www.accessdata.fda.gov/MAUDE/ftparea/patientadd.zip']\n",
    "patient = maude_downloader(patient_urls)"
   ]
  },
  {
   "cell_type": "markdown",
   "metadata": {},
   "source": [
    "## Reviewing Patient Data\n",
    "\n"
   ]
  },
  {
   "cell_type": "code",
   "execution_count": 5,
   "metadata": {},
   "outputs": [
    {
     "data": {
      "text/plain": [
       "(9217661, 5)"
      ]
     },
     "execution_count": 5,
     "metadata": {},
     "output_type": "execute_result"
    }
   ],
   "source": [
    "patient.shape"
   ]
  },
  {
   "cell_type": "code",
   "execution_count": 6,
   "metadata": {},
   "outputs": [],
   "source": [
    "# Mapping found on MAUDE website. Link above.\n",
    "patient_mapping = \"\"\"L - Life Threatening\n",
    "H - Hospitalization\n",
    "S - Disability\n",
    "C - Congenital Anomaly\n",
    "R - Required Intervention\n",
    "O - Other\n",
    "* - Invalid Data\n",
    "U - Unknown\n",
    "I - No Information\n",
    "A - Not Applicable\n",
    "D - Death\"\"\".split('\\n')\n",
    "\n",
    "# Mapped above string to dictionary.\n",
    "patient_mapping = {i.split('-')[0].strip():i.split('-')[1].strip() for i in patient_mapping}"
   ]
  },
  {
   "cell_type": "code",
   "execution_count": 15,
   "metadata": {},
   "outputs": [
    {
     "data": {
      "text/html": [
       "<div>\n",
       "<style scoped>\n",
       "    .dataframe tbody tr th:only-of-type {\n",
       "        vertical-align: middle;\n",
       "    }\n",
       "\n",
       "    .dataframe tbody tr th {\n",
       "        vertical-align: top;\n",
       "    }\n",
       "\n",
       "    .dataframe thead th {\n",
       "        text-align: right;\n",
       "    }\n",
       "</style>\n",
       "<table border=\"1\" class=\"dataframe\">\n",
       "  <thead>\n",
       "    <tr style=\"text-align: right;\">\n",
       "      <th></th>\n",
       "      <th>MDR_REPORT_KEY</th>\n",
       "      <th>PATIENT_SEQUENCE_NUMBER</th>\n",
       "      <th>DATE_RECEIVED</th>\n",
       "      <th>SEQUENCE_NUMBER_TREATMENT</th>\n",
       "      <th>SEQUENCE_NUMBER_OUTCOME</th>\n",
       "    </tr>\n",
       "  </thead>\n",
       "  <tbody>\n",
       "    <tr>\n",
       "      <th>8670</th>\n",
       "      <td>10040</td>\n",
       "      <td>1</td>\n",
       "      <td>07/12/1993</td>\n",
       "      <td>NaN</td>\n",
       "      <td>1. H; 2. O</td>\n",
       "    </tr>\n",
       "    <tr>\n",
       "      <th>8674</th>\n",
       "      <td>10062</td>\n",
       "      <td>1</td>\n",
       "      <td>08/10/1993</td>\n",
       "      <td>NaN</td>\n",
       "      <td>1. H; 2. O</td>\n",
       "    </tr>\n",
       "    <tr>\n",
       "      <th>8675</th>\n",
       "      <td>10063</td>\n",
       "      <td>1</td>\n",
       "      <td>08/13/1993</td>\n",
       "      <td>NaN</td>\n",
       "      <td>1. H; 2. L; 3. R</td>\n",
       "    </tr>\n",
       "    <tr>\n",
       "      <th>8677</th>\n",
       "      <td>10085</td>\n",
       "      <td>1</td>\n",
       "      <td>08/31/1993</td>\n",
       "      <td>NaN</td>\n",
       "      <td>1. H; 2. R</td>\n",
       "    </tr>\n",
       "    <tr>\n",
       "      <th>8681</th>\n",
       "      <td>10089</td>\n",
       "      <td>1</td>\n",
       "      <td>08/31/1993</td>\n",
       "      <td>NaN</td>\n",
       "      <td>1. O; 2. R</td>\n",
       "    </tr>\n",
       "  </tbody>\n",
       "</table>\n",
       "</div>"
      ],
      "text/plain": [
       "      MDR_REPORT_KEY  PATIENT_SEQUENCE_NUMBER DATE_RECEIVED  \\\n",
       "8670           10040                        1    07/12/1993   \n",
       "8674           10062                        1    08/10/1993   \n",
       "8675           10063                        1    08/13/1993   \n",
       "8677           10085                        1    08/31/1993   \n",
       "8681           10089                        1    08/31/1993   \n",
       "\n",
       "     SEQUENCE_NUMBER_TREATMENT SEQUENCE_NUMBER_OUTCOME  \n",
       "8670                       NaN              1. H; 2. O  \n",
       "8674                       NaN              1. H; 2. O  \n",
       "8675                       NaN        1. H; 2. L; 3. R  \n",
       "8677                       NaN              1. H; 2. R  \n",
       "8681                       NaN              1. O; 2. R  "
      ]
     },
     "execution_count": 15,
     "metadata": {},
     "output_type": "execute_result"
    }
   ],
   "source": [
    "# Reviewing the data I found that multiple values appear in the SEQUENCE_NUMBER_OUTCOME field. But how often?\n",
    "\n",
    "patient[patient.SEQUENCE_NUMBER_OUTCOME.str.contains(';').fillna(False)].head()"
   ]
  },
  {
   "cell_type": "code",
   "execution_count": 27,
   "metadata": {},
   "outputs": [
    {
     "name": "stdout",
     "output_type": "stream",
     "text": [
      "7.94 % of the data contains multiple values in the SEQUENCE_NUMBER_OUTCOME field.\n"
     ]
    }
   ],
   "source": [
    "# How often does the SEQUENCE_NUMBER_OUTCOME contain multiple values? \n",
    "print(round((patient[patient.SEQUENCE_NUMBER_OUTCOME.str.contains(';').fillna(False)].shape[0]/patient.shape[0]) * 100 ,2), '% of the data contains multiple values in the SEQUENCE_NUMBER_OUTCOME field.')\n"
   ]
  },
  {
   "cell_type": "code",
   "execution_count": 28,
   "metadata": {},
   "outputs": [],
   "source": [
    "# Let's fix this. A couple are going on here. First, I'm creating an index based on the unique key \n",
    "# (MDR_REPORT_KEY) and the date. Next, I split the values by the semicolon and explode them. Exploding\n",
    "# the data creates a new row with the split value. Similarly, splitting and expanding is necessary to \n",
    "# keep track of the sequence of outcomes but instead of creating more rows it expands the value into \n",
    "# a new column. Lastly, I renamed the columns for readability. \n",
    "df3 = patient.set_index(['MDR_REPORT_KEY', 'DATE_RECEIVED'])[['SEQUENCE_NUMBER_OUTCOME']].\\\n",
    "                        apply(lambda x: x.str.split(';').explode())['SEQUENCE_NUMBER_OUTCOME'].\\\n",
    "                        str.split('.', expand=True).\\\n",
    "                        rename(columns={0:'EVENT_SEQUENCE', 1:'PATIENT_OUTCOME'})"
   ]
  },
  {
   "cell_type": "code",
   "execution_count": 29,
   "metadata": {},
   "outputs": [],
   "source": [
    "df3.PATIENT_OUTCOME = df3.PATIENT_OUTCOME.str.strip()"
   ]
  },
  {
   "cell_type": "code",
   "execution_count": 30,
   "metadata": {},
   "outputs": [],
   "source": [
    "df3['OUTCOMES_TXT'] = df3['PATIENT_OUTCOME'].map(patient_mapping)"
   ]
  },
  {
   "cell_type": "code",
   "execution_count": 31,
   "metadata": {},
   "outputs": [],
   "source": [
    "df3.reset_index(inplace=True)"
   ]
  },
  {
   "cell_type": "code",
   "execution_count": 32,
   "metadata": {},
   "outputs": [
    {
     "data": {
      "text/plain": [
       "MDR_REPORT_KEY      int64\n",
       "DATE_RECEIVED      object\n",
       "EVENT_SEQUENCE     object\n",
       "PATIENT_OUTCOME    object\n",
       "OUTCOMES_TXT       object\n",
       "dtype: object"
      ]
     },
     "execution_count": 32,
     "metadata": {},
     "output_type": "execute_result"
    }
   ],
   "source": [
    "df3.dtypes"
   ]
  },
  {
   "cell_type": "code",
   "execution_count": 33,
   "metadata": {},
   "outputs": [
    {
     "data": {
      "text/plain": [
       "<matplotlib.axes._subplots.AxesSubplot at 0x7fa8c61defd0>"
      ]
     },
     "execution_count": 33,
     "metadata": {},
     "output_type": "execute_result"
    },
    {
     "data": {
      "image/png": "[encoded data removed]",
      "text/plain": [
       "<Figure size 432x288 with 1 Axes>"
      ]
     },
     "metadata": {
      "needs_background": "light"
     },
     "output_type": "display_data"
    }
   ],
   "source": [
    "df3[df3.MDR_REPORT_KEY.duplicated()].OUTCOMES_TXT.value_counts(ascending=True).reset_index().plot.barh(x='index', y='OUTCOMES_TXT')"
   ]
  },
  {
   "cell_type": "code",
   "execution_count": 34,
   "metadata": {},
   "outputs": [
    {
     "data": {
      "text/plain": [
       "Required Intervention    2352281\n",
       "Other                    1188134\n",
       "Hospitalization           754402\n",
       "Life Threatening          240460\n",
       "Death                     151993\n",
       "Disability                 75124\n",
       "Congenital Anomaly          2838\n",
       "Invalid Data                 930\n",
       "Not Applicable               130\n",
       "No Information                 1\n",
       "Name: OUTCOMES_TXT, dtype: int64"
      ]
     },
     "execution_count": 34,
     "metadata": {},
     "output_type": "execute_result"
    }
   ],
   "source": [
    "df3.OUTCOMES_TXT.value_counts()"
   ]
  },
  {
   "cell_type": "code",
   "execution_count": 40,
   "metadata": {},
   "outputs": [
    {
     "data": {
      "text/plain": [
       "<matplotlib.axes._subplots.AxesSubplot at 0x7fa8c5f3e250>"
      ]
     },
     "execution_count": 40,
     "metadata": {},
     "output_type": "execute_result"
    },
    {
     "data": {
      "image/png": "[encoded data removed]",
      "text/plain": [
       "<Figure size 432x288 with 1 Axes>"
      ]
     },
     "metadata": {
      "needs_background": "light"
     },
     "output_type": "display_data"
    }
   ],
   "source": [
    "df3.OUTCOMES_TXT.value_counts(ascending=True).reset_index().rename(columns={'index':'OUTCOMES_TXT', 'OUTCOMES_TXT':'COUNT'}).plot.barh(x='OUTCOMES_TXT', y='COUNT')"
   ]
  },
  {
   "cell_type": "code",
   "execution_count": 42,
   "metadata": {},
   "outputs": [
    {
     "data": {
      "text/plain": [
       "0           False\n",
       "1           False\n",
       "2           False\n",
       "3           False\n",
       "4            True\n",
       "            ...  \n",
       "10129191    False\n",
       "10129192    False\n",
       "10129193    False\n",
       "10129194    False\n",
       "10129195    False\n",
       "Name: OUTCOMES_TXT, Length: 10129196, dtype: bool"
      ]
     },
     "execution_count": 42,
     "metadata": {},
     "output_type": "execute_result"
    }
   ],
   "source": [
    "df3.OUTCOMES_TXT=='Death'"
   ]
  },
  {
   "cell_type": "markdown",
   "metadata": {},
   "source": [
    "# MDRFOI & FOIDEV"
   ]
  },
  {
   "cell_type": "code",
   "execution_count": null,
   "metadata": {},
   "outputs": [],
   "source": [
    "mdrfoi_urls = ['http://www.accessdata.fda.gov/MAUDE/ftparea/mdrfoi.zip', 'http://www.accessdata.fda.gov/MAUDE/ftparea/mdrfoithru2019.zip']\n",
    "mdrfoi = maude_downloader(mdrfoi_urls)\n",
    "\n",
    "foidev_urls = [\n",
    "        'http://www.accessdata.fda.gov/MAUDE/ftparea/foidev2017.zip',\n",
    "        'http://www.accessdata.fda.gov/MAUDE/ftparea/foidev2018.zip',\n",
    "        'http://www.accessdata.fda.gov/MAUDE/ftparea/foidev2019.zip'\n",
    "       ]\n",
    "foidev = maude_downloader(foidev_urls)"
   ]
  }
 ],
 "metadata": {
  "kernelspec": {
   "display_name": "Python 3",
   "language": "python",
   "name": "python3"
  },
  "language_info": {
   "codemirror_mode": {
    "name": "ipython",
    "version": 3
   },
   "file_extension": ".py",
   "mimetype": "text/x-python",
   "name": "python",
   "nbconvert_exporter": "python",
   "pygments_lexer": "ipython3",
   "version": "3.7.6"
  }
 },
 "nbformat": 4,
 "nbformat_minor": 4
}
