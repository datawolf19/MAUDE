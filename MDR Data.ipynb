{
 "cells": [
  {
   "cell_type": "code",
   "execution_count": 159,
   "metadata": {},
   "outputs": [],
   "source": [
    "import pandas as pd\n",
    "import numpy as np\n",
    "import os\n",
    "import zipfile\n",
    "import glob\n",
    "import requests\n",
    "import io"
   ]
  },
  {
   "cell_type": "markdown",
   "metadata": {},
   "source": [
    "# Manufacturer and User Facility Device Experience Database - (MAUDE)\n",
    "\n",
    "https://www.fda.gov/medical-devices/mandatory-reporting-requirements-manufacturers-importers-and-device-user-facilities/manufacturer-and-user-facility-device-experience-database-maude\n",
    "\n",
    "* http://www.accessdata.fda.gov/MAUDE/ftparea/foidev2017.zip\n",
    "* http://www.accessdata.fda.gov/MAUDE/ftparea/foidev2018.zip\n",
    "* http://www.accessdata.fda.gov/MAUDE/ftparea/foidev2019.zip"
   ]
  },
  {
   "cell_type": "code",
   "execution_count": 163,
   "metadata": {},
   "outputs": [],
   "source": [
    "urls = [\n",
    "        'http://www.accessdata.fda.gov/MAUDE/ftparea/foidev2017.zip',\n",
    "        'http://www.accessdata.fda.gov/MAUDE/ftparea/foidev2018.zip',\n",
    "        'http://www.accessdata.fda.gov/MAUDE/ftparea/foidev2019.zip'\n",
    "       ]"
   ]
  },
  {
   "cell_type": "code",
   "execution_count": 166,
   "metadata": {},
   "outputs": [],
   "source": [
    "f = requests.get('http://www.accessdata.fda.gov/MAUDE/ftparea/foidev2017.zip')"
   ]
  },
  {
   "cell_type": "code",
   "execution_count": 167,
   "metadata": {},
   "outputs": [
    {
     "name": "stdout",
     "output_type": "stream",
     "text": [
      "foidev2017.txt\n"
     ]
    },
    {
     "name": "stderr",
     "output_type": "stream",
     "text": [
      "b'Skipping line 402264: expected 28 fields, saw 29\\n'\n",
      "b'Skipping line 527584: expected 28 fields, saw 29\\nSkipping line 542866: expected 28 fields, saw 29\\n'\n",
      "b'Skipping line 644421: expected 28 fields, saw 29\\n'\n",
      "b'Skipping line 697628: expected 28 fields, saw 29\\n'\n",
      "b'Skipping line 731110: expected 28 fields, saw 29\\nSkipping line 741032: expected 28 fields, saw 29\\n'\n",
      "b'Skipping line 809121: expected 28 fields, saw 30\\n'\n"
     ]
    },
    {
     "name": "stdout",
     "output_type": "stream",
     "text": [
      "foidev2018.txt\n"
     ]
    },
    {
     "name": "stderr",
     "output_type": "stream",
     "text": [
      "b'Skipping line 4364: expected 28 fields, saw 30\\n'\n",
      "b'Skipping line 189288: expected 28 fields, saw 29\\n'\n",
      "b'Skipping line 198634: expected 28 fields, saw 29\\n'\n",
      "b'Skipping line 253326: expected 28 fields, saw 29\\n'\n",
      "b'Skipping line 276088: expected 28 fields, saw 29\\n'\n",
      "b'Skipping line 298681: expected 28 fields, saw 29\\nSkipping line 318047: expected 28 fields, saw 29\\nSkipping line 322849: expected 28 fields, saw 29\\n'\n",
      "b'Skipping line 387238: expected 28 fields, saw 29\\nSkipping line 387592: expected 28 fields, saw 29\\n'\n",
      "b'Skipping line 403909: expected 28 fields, saw 29\\nSkipping line 413712: expected 28 fields, saw 29\\n'\n",
      "b'Skipping line 490741: expected 28 fields, saw 29\\n'\n",
      "b'Skipping line 918550: expected 28 fields, saw 29\\n'\n",
      "b'Skipping line 991126: expected 28 fields, saw 29\\n'\n",
      "/home/wolfgang/anaconda3/envs/ml/lib/python3.7/site-packages/IPython/core/interactiveshell.py:3063: DtypeWarning: Columns (0,1,2,3,21) have mixed types.Specify dtype option on import or set low_memory=False.\n",
      "  interactivity=interactivity, compiler=compiler, result=result)\n"
     ]
    },
    {
     "name": "stdout",
     "output_type": "stream",
     "text": [
      "foidev2019.txt\n"
     ]
    },
    {
     "name": "stderr",
     "output_type": "stream",
     "text": [
      "b'Skipping line 16623: expected 28 fields, saw 29\\n'\n",
      "b'Skipping line 100535: expected 28 fields, saw 29\\n'\n",
      "b'Skipping line 175260: expected 28 fields, saw 29\\n'\n",
      "b'Skipping line 709527: expected 28 fields, saw 29\\nSkipping line 710530: expected 28 fields, saw 29\\nSkipping line 716394: expected 28 fields, saw 29\\n'\n",
      "b'Skipping line 930956: expected 28 fields, saw 29\\n'\n",
      "b'Skipping line 1323079: expected 28 fields, saw 29\\n'\n",
      "/home/wolfgang/anaconda3/envs/ml/lib/python3.7/site-packages/IPython/core/interactiveshell.py:3063: DtypeWarning: Columns (0,1,2,3,4,21) have mixed types.Specify dtype option on import or set low_memory=False.\n",
      "  interactivity=interactivity, compiler=compiler, result=result)\n"
     ]
    }
   ],
   "source": [
    "# DataFrame to store the MAUDE Data\n",
    "df = pd.DataFrame()\n",
    "\n",
    "# Relevant urls to download\n",
    "for url in urls:\n",
    "    # Making the download request\n",
    "    file = requests.get(url)\n",
    "    # Accessing the file in the zip.\n",
    "    with zipfile.ZipFile(io.BytesIO(file.content)) as zf:\n",
    "        # Reading the filename\n",
    "        for name in zf.namelist():\n",
    "            # Opening the file, decoding and parsing for DataFrame\n",
    "            # Skips over rows with errors.\n",
    "            with zf.open(name) as myfile:\n",
    "                df = df.append(pd.read_csv(io.StringIO(myfile.read().decode('latin1')), delimiter='|', error_bad_lines=False))"
   ]
  },
  {
   "cell_type": "code",
   "execution_count": 168,
   "metadata": {},
   "outputs": [
    {
     "data": {
      "text/plain": [
       "(3298337, 28)"
      ]
     },
     "execution_count": 168,
     "metadata": {},
     "output_type": "execute_result"
    }
   ],
   "source": [
    "# 2017, 2018 and 2019 data appended in one dataset.\n",
    "df.shape"
   ]
  },
  {
   "cell_type": "code",
   "execution_count": 145,
   "metadata": {},
   "outputs": [
    {
     "data": {
      "text/html": [
       "<div>\n",
       "<style scoped>\n",
       "    .dataframe tbody tr th:only-of-type {\n",
       "        vertical-align: middle;\n",
       "    }\n",
       "\n",
       "    .dataframe tbody tr th {\n",
       "        vertical-align: top;\n",
       "    }\n",
       "\n",
       "    .dataframe thead th {\n",
       "        text-align: right;\n",
       "    }\n",
       "</style>\n",
       "<table border=\"1\" class=\"dataframe\">\n",
       "  <thead>\n",
       "    <tr style=\"text-align: right;\">\n",
       "      <th></th>\n",
       "      <th>MDR_REPORT_KEY</th>\n",
       "      <th>DEVICE_EVENT_KEY</th>\n",
       "      <th>IMPLANT_FLAG</th>\n",
       "      <th>DATE_REMOVED_FLAG</th>\n",
       "      <th>DEVICE_SEQUENCE_NO</th>\n",
       "      <th>DATE_RECEIVED</th>\n",
       "      <th>BRAND_NAME</th>\n",
       "      <th>GENERIC_NAME</th>\n",
       "      <th>MANUFACTURER_D_NAME</th>\n",
       "      <th>MANUFACTURER_D_ADDRESS_1</th>\n",
       "      <th>...</th>\n",
       "      <th>MODEL_NUMBER</th>\n",
       "      <th>CATALOG_NUMBER</th>\n",
       "      <th>LOT_NUMBER</th>\n",
       "      <th>OTHER_ID_NUMBER</th>\n",
       "      <th>DEVICE_OPERATOR</th>\n",
       "      <th>DEVICE_AVAILABILITY</th>\n",
       "      <th>DATE_RETURNED_TO_MANUFACTURER</th>\n",
       "      <th>DEVICE_REPORT_PRODUCT_CODE</th>\n",
       "      <th>DEVICE_AGE_TEXT</th>\n",
       "      <th>DEVICE_EVALUATED_BY_MANUFACTUR</th>\n",
       "    </tr>\n",
       "  </thead>\n",
       "  <tbody>\n",
       "    <tr>\n",
       "      <th>0</th>\n",
       "      <td>6216912</td>\n",
       "      <td>NaN</td>\n",
       "      <td>NaN</td>\n",
       "      <td>NaN</td>\n",
       "      <td>1</td>\n",
       "      <td>01/01/2017</td>\n",
       "      <td>MERGE HEMODYNAMICS</td>\n",
       "      <td>PROGRAMMABLE DIAGNOSTIC COMPUTER</td>\n",
       "      <td>MERGE HEALTHCARE</td>\n",
       "      <td>900 WALNUT RIDGE DRIVE</td>\n",
       "      <td>...</td>\n",
       "      <td>MERGE HEMODYNAMICS 10.0.1</td>\n",
       "      <td>NaN</td>\n",
       "      <td>NaN</td>\n",
       "      <td>NaN</td>\n",
       "      <td>0HP</td>\n",
       "      <td>Y</td>\n",
       "      <td>NaN</td>\n",
       "      <td>DQK</td>\n",
       "      <td>DA</td>\n",
       "      <td>R</td>\n",
       "    </tr>\n",
       "    <tr>\n",
       "      <th>1</th>\n",
       "      <td>6216913</td>\n",
       "      <td>NaN</td>\n",
       "      <td>NaN</td>\n",
       "      <td>NaN</td>\n",
       "      <td>1</td>\n",
       "      <td>01/01/2017</td>\n",
       "      <td>MERGE HEMODYNAMICS</td>\n",
       "      <td>PROGRAMMABLE DIAGNOSTIC COMPUTER</td>\n",
       "      <td>MERGE HEALTHCARE</td>\n",
       "      <td>900 WALNUT RIDGE DRIVE</td>\n",
       "      <td>...</td>\n",
       "      <td>MERGE HEMODYNAMICS 10.0.1</td>\n",
       "      <td>NaN</td>\n",
       "      <td>NaN</td>\n",
       "      <td>NaN</td>\n",
       "      <td>0HP</td>\n",
       "      <td>R</td>\n",
       "      <td>02/20/2017</td>\n",
       "      <td>DQK</td>\n",
       "      <td>DA</td>\n",
       "      <td>Y</td>\n",
       "    </tr>\n",
       "    <tr>\n",
       "      <th>2</th>\n",
       "      <td>6216914</td>\n",
       "      <td>NaN</td>\n",
       "      <td>NaN</td>\n",
       "      <td>NaN</td>\n",
       "      <td>1</td>\n",
       "      <td>01/01/2017</td>\n",
       "      <td>MERGE UNITY  PACS</td>\n",
       "      <td>PICTURE AND ARCHIVING COMMUNICATIONS SYSTEM</td>\n",
       "      <td>MERGE HEALTHCARE</td>\n",
       "      <td>900 WALNUT RIDGE DRIVE</td>\n",
       "      <td>...</td>\n",
       "      <td>UNITY PACS R10.0.436.121</td>\n",
       "      <td>NaN</td>\n",
       "      <td>NaN</td>\n",
       "      <td>NaN</td>\n",
       "      <td>0HP</td>\n",
       "      <td>Y</td>\n",
       "      <td>NaN</td>\n",
       "      <td>LLZ</td>\n",
       "      <td>DA</td>\n",
       "      <td>Y</td>\n",
       "    </tr>\n",
       "    <tr>\n",
       "      <th>3</th>\n",
       "      <td>6216915</td>\n",
       "      <td>NaN</td>\n",
       "      <td>NaN</td>\n",
       "      <td>NaN</td>\n",
       "      <td>1</td>\n",
       "      <td>01/01/2017</td>\n",
       "      <td>OT VERIO FLEX METER</td>\n",
       "      <td>GLUCOSE MONITORING SYS/KIT</td>\n",
       "      <td>LIFESCAN EUROPE, A DIVISION OF CILAG GMBH INTL</td>\n",
       "      <td>GUBELSTRASSE 34</td>\n",
       "      <td>...</td>\n",
       "      <td>NaN</td>\n",
       "      <td>NaN</td>\n",
       "      <td>NaN</td>\n",
       "      <td>1-3BBSA4F</td>\n",
       "      <td>0LP</td>\n",
       "      <td>N</td>\n",
       "      <td>NaN</td>\n",
       "      <td>NBW</td>\n",
       "      <td>NaN</td>\n",
       "      <td>R</td>\n",
       "    </tr>\n",
       "    <tr>\n",
       "      <th>4</th>\n",
       "      <td>6216916</td>\n",
       "      <td>NaN</td>\n",
       "      <td>NaN</td>\n",
       "      <td>NaN</td>\n",
       "      <td>1</td>\n",
       "      <td>01/01/2017</td>\n",
       "      <td>OT VERIO2 METER</td>\n",
       "      <td>GLUCOSE MONITORING SYS/KIT</td>\n",
       "      <td>LIFESCAN EUROPE, A DIVISION OF CILAG GMBH INTL</td>\n",
       "      <td>GUBELSTRASSE 34</td>\n",
       "      <td>...</td>\n",
       "      <td>NaN</td>\n",
       "      <td>NaN</td>\n",
       "      <td>4054781</td>\n",
       "      <td>1-2IZSAO8</td>\n",
       "      <td>0LP</td>\n",
       "      <td>N</td>\n",
       "      <td>NaN</td>\n",
       "      <td>NBW</td>\n",
       "      <td>NaN</td>\n",
       "      <td>R</td>\n",
       "    </tr>\n",
       "  </tbody>\n",
       "</table>\n",
       "<p>5 rows × 28 columns</p>\n",
       "</div>"
      ],
      "text/plain": [
       "  MDR_REPORT_KEY DEVICE_EVENT_KEY IMPLANT_FLAG DATE_REMOVED_FLAG  \\\n",
       "0        6216912              NaN          NaN               NaN   \n",
       "1        6216913              NaN          NaN               NaN   \n",
       "2        6216914              NaN          NaN               NaN   \n",
       "3        6216915              NaN          NaN               NaN   \n",
       "4        6216916              NaN          NaN               NaN   \n",
       "\n",
       "  DEVICE_SEQUENCE_NO DATE_RECEIVED           BRAND_NAME  \\\n",
       "0                  1    01/01/2017   MERGE HEMODYNAMICS   \n",
       "1                  1    01/01/2017   MERGE HEMODYNAMICS   \n",
       "2                  1    01/01/2017    MERGE UNITY  PACS   \n",
       "3                  1    01/01/2017  OT VERIO FLEX METER   \n",
       "4                  1    01/01/2017      OT VERIO2 METER   \n",
       "\n",
       "                                  GENERIC_NAME  \\\n",
       "0             PROGRAMMABLE DIAGNOSTIC COMPUTER   \n",
       "1             PROGRAMMABLE DIAGNOSTIC COMPUTER   \n",
       "2  PICTURE AND ARCHIVING COMMUNICATIONS SYSTEM   \n",
       "3                   GLUCOSE MONITORING SYS/KIT   \n",
       "4                   GLUCOSE MONITORING SYS/KIT   \n",
       "\n",
       "                              MANUFACTURER_D_NAME MANUFACTURER_D_ADDRESS_1  \\\n",
       "0                                MERGE HEALTHCARE   900 WALNUT RIDGE DRIVE   \n",
       "1                                MERGE HEALTHCARE   900 WALNUT RIDGE DRIVE   \n",
       "2                                MERGE HEALTHCARE   900 WALNUT RIDGE DRIVE   \n",
       "3  LIFESCAN EUROPE, A DIVISION OF CILAG GMBH INTL          GUBELSTRASSE 34   \n",
       "4  LIFESCAN EUROPE, A DIVISION OF CILAG GMBH INTL          GUBELSTRASSE 34   \n",
       "\n",
       "   ...               MODEL_NUMBER CATALOG_NUMBER LOT_NUMBER OTHER_ID_NUMBER  \\\n",
       "0  ...  MERGE HEMODYNAMICS 10.0.1            NaN        NaN             NaN   \n",
       "1  ...  MERGE HEMODYNAMICS 10.0.1            NaN        NaN             NaN   \n",
       "2  ...   UNITY PACS R10.0.436.121            NaN        NaN             NaN   \n",
       "3  ...                        NaN            NaN        NaN       1-3BBSA4F   \n",
       "4  ...                        NaN            NaN    4054781       1-2IZSAO8   \n",
       "\n",
       "  DEVICE_OPERATOR DEVICE_AVAILABILITY DATE_RETURNED_TO_MANUFACTURER  \\\n",
       "0             0HP                   Y                           NaN   \n",
       "1             0HP                   R                    02/20/2017   \n",
       "2             0HP                   Y                           NaN   \n",
       "3             0LP                   N                           NaN   \n",
       "4             0LP                   N                           NaN   \n",
       "\n",
       "  DEVICE_REPORT_PRODUCT_CODE DEVICE_AGE_TEXT DEVICE_EVALUATED_BY_MANUFACTUR  \n",
       "0                        DQK              DA                              R  \n",
       "1                        DQK              DA                              Y  \n",
       "2                        LLZ              DA                              Y  \n",
       "3                        NBW             NaN                              R  \n",
       "4                        NBW             NaN                              R  \n",
       "\n",
       "[5 rows x 28 columns]"
      ]
     },
     "execution_count": 145,
     "metadata": {},
     "output_type": "execute_result"
    }
   ],
   "source": [
    "# Preview of the first 5 records\n",
    "df.head()"
   ]
  },
  {
   "cell_type": "code",
   "execution_count": 146,
   "metadata": {},
   "outputs": [
    {
     "data": {
      "text/plain": [
       "Index(['MDR_REPORT_KEY', 'DEVICE_EVENT_KEY', 'IMPLANT_FLAG',\n",
       "       'DATE_REMOVED_FLAG', 'DEVICE_SEQUENCE_NO', 'DATE_RECEIVED',\n",
       "       'BRAND_NAME', 'GENERIC_NAME', 'MANUFACTURER_D_NAME',\n",
       "       'MANUFACTURER_D_ADDRESS_1', 'MANUFACTURER_D_ADDRESS_2',\n",
       "       'MANUFACTURER_D_CITY', 'MANUFACTURER_D_STATE_CODE',\n",
       "       'MANUFACTURER_D_ZIP_CODE', 'MANUFACTURER_D_ZIP_CODE_EXT',\n",
       "       'MANUFACTURER_D_COUNTRY_CODE', 'MANUFACTURER_D_POSTAL_CODE',\n",
       "       'EXPIRATION_DATE_OF_DEVICE', 'MODEL_NUMBER', 'CATALOG_NUMBER',\n",
       "       'LOT_NUMBER', 'OTHER_ID_NUMBER', 'DEVICE_OPERATOR',\n",
       "       'DEVICE_AVAILABILITY', 'DATE_RETURNED_TO_MANUFACTURER',\n",
       "       'DEVICE_REPORT_PRODUCT_CODE', 'DEVICE_AGE_TEXT',\n",
       "       'DEVICE_EVALUATED_BY_MANUFACTUR'],\n",
       "      dtype='object')"
      ]
     },
     "execution_count": 146,
     "metadata": {},
     "output_type": "execute_result"
    }
   ],
   "source": [
    "df.columns"
   ]
  },
  {
   "cell_type": "code",
   "execution_count": null,
   "metadata": {},
   "outputs": [],
   "source": []
  }
 ],
 "metadata": {
  "kernelspec": {
   "display_name": "Python 3",
   "language": "python",
   "name": "python3"
  },
  "language_info": {
   "codemirror_mode": {
    "name": "ipython",
    "version": 3
   },
   "file_extension": ".py",
   "mimetype": "text/x-python",
   "name": "python",
   "nbconvert_exporter": "python",
   "pygments_lexer": "ipython3",
   "version": "3.7.6"
  }
 },
 "nbformat": 4,
 "nbformat_minor": 4
}
